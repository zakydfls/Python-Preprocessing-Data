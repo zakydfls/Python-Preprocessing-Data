{
  "nbformat": 4,
  "nbformat_minor": 0,
  "metadata": {
    "colab": {
      "provenance": []
    },
    "kernelspec": {
      "name": "python3",
      "display_name": "Python 3"
    }
  },
  "cells": [
    {
      "cell_type": "code",
      "metadata": {
        "id": "2DKDpXsb8Tym"
      },
      "source": [
        "import numpy as np\n",
        "import matplotlib.pyplot as plt\n",
        "import pandas as pd"
      ],
      "execution_count": 93,
      "outputs": []
    },
    {
      "cell_type": "code",
      "metadata": {
        "id": "JPDFYyq7G_RF"
      },
      "source": [
        "dataset = pd.read_csv('mobil.csv')\n",
        "x = dataset.iloc[:, :-1].values\n",
        "y = dataset.iloc[:, -1].values"
      ],
      "execution_count": 94,
      "outputs": []
    },
    {
      "cell_type": "code",
      "metadata": {
        "colab": {
          "base_uri": "https://localhost:8080/"
        },
        "id": "kb9GarmBH-8Z",
        "outputId": "3c353c1a-b87e-45e2-a49d-d33e6634c9ee"
      },
      "source": [
        "print(x)"
      ],
      "execution_count": 95,
      "outputs": [
        {
          "output_type": "stream",
          "name": "stdout",
          "text": [
            "[['BMW' 2020.0 3500000.0]\n",
            " ['BMW' 2010.0 2900000.0]\n",
            " ['Audi' 2016.0 nan]\n",
            " ['Audi' 2012.0 975000.0]\n",
            " ['BMW' 2014.0 2350000.0]\n",
            " ['Bentley' nan 7600000.0]\n",
            " ['Audi' 2014.0 1470000.0]\n",
            " ['Audi' nan 1550000.0]\n",
            " ['Mercedes-Benz' 2017.0 2350000.0]\n",
            " ['Mercedes-Benz' 2013.0 3850000.0]\n",
            " ['Mercedes-Benz' 2016.0 nan]\n",
            " ['Audi' 2014.0 2250000.0]\n",
            " ['BMW' 2015.0 2125000.0]\n",
            " ['Mercedes-Benz' 2015.0 1900000.0]]\n"
          ]
        }
      ]
    },
    {
      "cell_type": "code",
      "metadata": {
        "colab": {
          "base_uri": "https://localhost:8080/"
        },
        "id": "fPYNdjZzIR6J",
        "outputId": "8e33a4a4-0089-417d-da97-629158bc9bd8"
      },
      "source": [
        "print(y)"
      ],
      "execution_count": 96,
      "outputs": [
        {
          "output_type": "stream",
          "name": "stdout",
          "text": [
            "['Cheap' 'Expensive' 'Cheap' 'Expensive' 'Cheap' 'Expensive' 'Cheap'\n",
            " 'Expensive' 'Cheap' 'Cheap' 'Cheap' 'Cheap' 'Cheap' 'Cheap']\n"
          ]
        }
      ]
    },
    {
      "cell_type": "code",
      "metadata": {
        "id": "tliVpM6bIgu9"
      },
      "source": [
        "from sklearn.impute import SimpleImputer\n",
        "imputer = SimpleImputer(missing_values=np.nan, strategy='mean')\n",
        "imputer.fit(x[:, 1:3])\n",
        "x[:, 1:3] = imputer.transform(x[:, 1:3])"
      ],
      "execution_count": 97,
      "outputs": []
    },
    {
      "cell_type": "code",
      "metadata": {
        "colab": {
          "base_uri": "https://localhost:8080/"
        },
        "id": "-dmcXYMLJcDf",
        "outputId": "3991cc53-9818-4095-d6a8-d4487e4b590c"
      },
      "source": [
        "print(x)"
      ],
      "execution_count": 98,
      "outputs": [
        {
          "output_type": "stream",
          "name": "stdout",
          "text": [
            "[['BMW' 2020.0 3500000.0]\n",
            " ['BMW' 2010.0 2900000.0]\n",
            " ['Audi' 2016.0 2735000.0]\n",
            " ['Audi' 2012.0 975000.0]\n",
            " ['BMW' 2014.0 2350000.0]\n",
            " ['Bentley' 2014.6666666666667 7600000.0]\n",
            " ['Audi' 2014.0 1470000.0]\n",
            " ['Audi' 2014.6666666666667 1550000.0]\n",
            " ['Mercedes-Benz' 2017.0 2350000.0]\n",
            " ['Mercedes-Benz' 2013.0 3850000.0]\n",
            " ['Mercedes-Benz' 2016.0 2735000.0]\n",
            " ['Audi' 2014.0 2250000.0]\n",
            " ['BMW' 2015.0 2125000.0]\n",
            " ['Mercedes-Benz' 2015.0 1900000.0]]\n"
          ]
        }
      ]
    },
    {
      "cell_type": "code",
      "metadata": {
        "id": "PTFBpzBBJt65"
      },
      "source": [
        "from sklearn.compose import ColumnTransformer\n",
        "from sklearn.preprocessing import OneHotEncoder\n",
        "ct = ColumnTransformer(transformers=[('encoder', OneHotEncoder(), [0])], remainder='passthrough')\n",
        "x = np.array(ct.fit_transform(x))"
      ],
      "execution_count": 99,
      "outputs": []
    },
    {
      "cell_type": "code",
      "metadata": {
        "colab": {
          "base_uri": "https://localhost:8080/"
        },
        "id": "P_9GQ4P3KuNV",
        "outputId": "31e8312a-eb29-4e01-f580-db4b59b0fd44"
      },
      "source": [
        "print(x)"
      ],
      "execution_count": 100,
      "outputs": [
        {
          "output_type": "stream",
          "name": "stdout",
          "text": [
            "[[0.0 1.0 0.0 0.0 2020.0 3500000.0]\n",
            " [0.0 1.0 0.0 0.0 2010.0 2900000.0]\n",
            " [1.0 0.0 0.0 0.0 2016.0 2735000.0]\n",
            " [1.0 0.0 0.0 0.0 2012.0 975000.0]\n",
            " [0.0 1.0 0.0 0.0 2014.0 2350000.0]\n",
            " [0.0 0.0 1.0 0.0 2014.6666666666667 7600000.0]\n",
            " [1.0 0.0 0.0 0.0 2014.0 1470000.0]\n",
            " [1.0 0.0 0.0 0.0 2014.6666666666667 1550000.0]\n",
            " [0.0 0.0 0.0 1.0 2017.0 2350000.0]\n",
            " [0.0 0.0 0.0 1.0 2013.0 3850000.0]\n",
            " [0.0 0.0 0.0 1.0 2016.0 2735000.0]\n",
            " [1.0 0.0 0.0 0.0 2014.0 2250000.0]\n",
            " [0.0 1.0 0.0 0.0 2015.0 2125000.0]\n",
            " [0.0 0.0 0.0 1.0 2015.0 1900000.0]]\n"
          ]
        }
      ]
    },
    {
      "cell_type": "code",
      "metadata": {
        "id": "c73-6zWjLBgo"
      },
      "source": [
        "from sklearn.preprocessing import LabelEncoder\n",
        "le = LabelEncoder()\n",
        "y = le.fit_transform(y)"
      ],
      "execution_count": 101,
      "outputs": []
    },
    {
      "cell_type": "code",
      "metadata": {
        "colab": {
          "base_uri": "https://localhost:8080/"
        },
        "id": "Go3MqGP-LS5P",
        "outputId": "4fd07ec6-3799-4918-cd10-31fd19cd974d"
      },
      "source": [
        "print(y)"
      ],
      "execution_count": 102,
      "outputs": [
        {
          "output_type": "stream",
          "name": "stdout",
          "text": [
            "[0 1 0 1 0 1 0 1 0 0 0 0 0 0]\n"
          ]
        }
      ]
    },
    {
      "cell_type": "code",
      "metadata": {
        "id": "-fBBg0UWLryt"
      },
      "source": [
        "from sklearn.model_selection import train_test_split\n",
        "x_train, x_test, y_train, y_test = train_test_split(x, y, test_size=0.2, random_state=1)"
      ],
      "execution_count": 105,
      "outputs": []
    },
    {
      "cell_type": "code",
      "metadata": {
        "colab": {
          "base_uri": "https://localhost:8080/"
        },
        "id": "h4nkKTl6MXuJ",
        "outputId": "9c8746c1-6c94-4a13-afcb-8aa15f7a9081"
      },
      "source": [
        "print(x_train)"
      ],
      "execution_count": 104,
      "outputs": [
        {
          "output_type": "stream",
          "name": "stdout",
          "text": [
            "[[1.0 0.0 0.0 0.0 2016.0 2735000.0]\n",
            " [0.0 0.0 0.0 1.0 2016.0 2735000.0]\n",
            " [0.0 1.0 0.0 0.0 2014.0 2350000.0]\n",
            " [0.0 1.0 0.0 0.0 2010.0 2900000.0]\n",
            " [0.0 1.0 0.0 0.0 2015.0 2125000.0]\n",
            " [0.0 1.0 0.0 0.0 2020.0 3500000.0]\n",
            " [0.0 0.0 0.0 1.0 2015.0 1900000.0]\n",
            " [0.0 0.0 0.0 1.0 2013.0 3850000.0]\n",
            " [0.0 0.0 0.0 1.0 2017.0 2350000.0]\n",
            " [1.0 0.0 0.0 0.0 2014.0 2250000.0]\n",
            " [0.0 0.0 1.0 0.0 2014.6666666666667 7600000.0]]\n"
          ]
        }
      ]
    },
    {
      "cell_type": "code",
      "metadata": {
        "colab": {
          "base_uri": "https://localhost:8080/"
        },
        "id": "oVehWU-sMoX7",
        "outputId": "9f013723-3082-4889-c01c-e9f95d8a27aa"
      },
      "source": [
        "print(x_test)"
      ],
      "execution_count": 106,
      "outputs": [
        {
          "output_type": "stream",
          "name": "stdout",
          "text": [
            "[[1.0 0.0 0.0 0.0 2012.0 975000.0]\n",
            " [1.0 0.0 0.0 0.0 2014.6666666666667 1550000.0]\n",
            " [1.0 0.0 0.0 0.0 2014.0 1470000.0]]\n"
          ]
        }
      ]
    },
    {
      "cell_type": "code",
      "metadata": {
        "colab": {
          "base_uri": "https://localhost:8080/"
        },
        "id": "HOqPlt8xMwaD",
        "outputId": "202c2602-db60-4b4d-faec-02a6e0061a7e"
      },
      "source": [
        "print(y_train)"
      ],
      "execution_count": 107,
      "outputs": [
        {
          "output_type": "stream",
          "name": "stdout",
          "text": [
            "[0 0 0 1 0 0 0 0 0 0 1]\n"
          ]
        }
      ]
    },
    {
      "cell_type": "code",
      "metadata": {
        "colab": {
          "base_uri": "https://localhost:8080/"
        },
        "id": "KjwFgNXiM15F",
        "outputId": "848456ce-6c1d-470c-f287-4189b2018100"
      },
      "source": [
        "print(y_test)"
      ],
      "execution_count": 109,
      "outputs": [
        {
          "output_type": "stream",
          "name": "stdout",
          "text": [
            "[1 1 0]\n"
          ]
        }
      ]
    },
    {
      "cell_type": "code",
      "metadata": {
        "id": "8wPE4Hb5NLhP"
      },
      "source": [
        "from sklearn.preprocessing import StandardScaler\n",
        "sc = StandardScaler()\n",
        "x_train[:, 3:] = sc.fit_transform(x_train[:, 3:])\n",
        "x_test[:, 3:] = sc.transform(x_test[:, 3:])"
      ],
      "execution_count": 110,
      "outputs": []
    },
    {
      "cell_type": "code",
      "metadata": {
        "colab": {
          "base_uri": "https://localhost:8080/"
        },
        "id": "dJVHGwyZOC6U",
        "outputId": "8b1e504a-1b7f-4a3e-cfa3-94ca5176f52e"
      },
      "source": [
        "print(x_train)"
      ],
      "execution_count": 111,
      "outputs": [
        {
          "output_type": "stream",
          "name": "stdout",
          "text": [
            "[[1.0 0.0 0.0 -0.7559289460184545 0.4336226783689087 -0.2513041886401306]\n",
            " [0.0 0.0 0.0 1.3228756555322954 0.4336226783689087 -0.2513041886401306]\n",
            " [0.0 1.0 0.0 -0.7559289460184545 -0.40811546199428955\n",
            "  -0.5041006824384566]\n",
            " [0.0 1.0 0.0 -0.7559289460184545 -2.091591742720686 -0.14296283415513375]\n",
            " [0.0 1.0 0.0 -0.7559289460184545 0.012753608187309588 -0.651838893099816]\n",
            " [0.0 1.0 0.0 -0.7559289460184545 2.1170989590953053 0.2510057276084912]\n",
            " [0.0 0.0 0.0 1.3228756555322954 0.012753608187309588 -0.7995771037611754]\n",
            " [0.0 0.0 0.0 1.3228756555322954 -0.8289845321758887 0.4808207219706058]\n",
            " [0.0 0.0 0.0 1.3228756555322954 0.8544917485505079 -0.5041006824384566]\n",
            " [1.0 0.0 0.0 -0.7559289460184545 -0.40811546199428955\n",
            "  -0.5697621093990608]\n",
            " [0.0 0.0 1.0 -0.7559289460184545 -0.12753608187319157 2.9431242329932616]]\n"
          ]
        }
      ]
    },
    {
      "cell_type": "code",
      "metadata": {
        "id": "uVN7n0clOOTM",
        "colab": {
          "base_uri": "https://localhost:8080/"
        },
        "outputId": "4ccebd77-6820-4d0f-aac7-c1ee4b8056ae"
      },
      "source": [
        "print(x_test)"
      ],
      "execution_count": 112,
      "outputs": [
        {
          "output_type": "stream",
          "name": "stdout",
          "text": [
            "[[1.0 0.0 0.0 -0.7559289460184545 -1.2498536023574878 -1.406945303146764]\n",
            " [1.0 0.0 0.0 -0.7559289460184545 -0.12753608187319157 -1.02939209812329]\n",
            " [1.0 0.0 0.0 -0.7559289460184545 -0.40811546199428955\n",
            "  -1.0819212396917732]]\n"
          ]
        }
      ]
    }
  ]
}